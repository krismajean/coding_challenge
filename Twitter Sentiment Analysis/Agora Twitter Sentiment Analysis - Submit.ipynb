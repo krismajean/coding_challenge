{
 "cells": [
  {
   "cell_type": "markdown",
   "metadata": {},
   "source": [
    "# Twitter Sentiment Analysis with Tensorflow LSTM\n",
    "\n",
    "This variant of the popular positive/negative sentiment analysis challenge will apply emotion labels to each tweet.  This code is modeled from the tutorial posted here: https://www.oreilly.com/learning/perform-sentiment-analysis-with-lstms-using-tensorflow\n",
    "\n",
    "To start, let's look at some of our data"
   ]
  },
  {
   "cell_type": "code",
   "execution_count": 1,
   "metadata": {},
   "outputs": [
    {
     "name": "stdout",
     "output_type": "stream",
     "text": [
      "['tweet_id', 'sentiment', 'author', 'content']\n",
      "['1956967341', 'empty', 'xoshayzers', '@tiffanylue i know  i was listenin to bad habit earlier and i started freakin at his part =[']\n",
      "['1956967666', 'sadness', 'wannamama', 'Layin n bed with a headache  ughhhh...waitin on your call...']\n",
      "['1956967696', 'sadness', 'coolfunky', 'Funeral ceremony...gloomy friday...']\n",
      "['1956967789', 'enthusiasm', 'czareaquino', 'wants to hang out with friends SOON!']\n",
      "['1956968416', 'neutral', 'xkilljoyx', '@dannycastillo We want to trade with someone who has Houston tickets, but no one will.']\n",
      "['1956968477', 'worry', 'xxxPEACHESxxx', \"Re-pinging @ghostridah14: why didn't you go to prom? BC my bf didn't like my friends\"]\n",
      "['1956968487', 'sadness', 'ShansBee', \"I should be sleep, but im not! thinking about an old friend who I want. but he's married now. damn, &amp; he wants me 2! scandalous!\"]\n",
      "['1956968636', 'worry', 'mcsleazy', 'Hmmm. http://www.djhero.com/ is down']\n",
      "['1956969035', 'sadness', 'nic0lepaula', '@charviray Charlene my love. I miss you']\n",
      "['1956969172', 'sadness', 'Ingenue_Em', \"@kelcouch I'm sorry  at least it's Friday?\"]\n",
      "kelcouch I'm sorry  at least it's Friday?\n"
     ]
    }
   ],
   "source": [
    "filename = \"text_emotion.csv\"\n",
    "\n",
    "import csv\n",
    "with open(filename) as inf:\n",
    "    tweetreader = csv.reader(inf, delimiter=',',quotechar='\"')\n",
    "    \n",
    "    counter = 0\n",
    "    for line in tweetreader:\n",
    "        number, emotion, user, tweet = line\n",
    "        print(line)\n",
    "        #print(str(counter) + ':' + emotion + ': ' + tweet)\n",
    "        counter = 1+counter\n",
    "        if counter >10: break\n",
    "        #print(', '.join(line))\n",
    "        \n",
    "print(tweet[1:])"
   ]
  },
  {
   "cell_type": "markdown",
   "metadata": {},
   "source": [
    "Tweet_ID, followed by a sentiment label, author, and then content.  We're going to need to do some modifications to this data to be able to work with it.  Not all the labels seem perfect.\n",
    "\n",
    "To start lets set up the system that will turn these words into fancy vectors.\n",
    "\n",
    "We'll import two numpy data structures to facilitate the processing of our data.  First is a python list of 400,000 words `wordsList.npy` and the second is a list of 400,000 word vectors from the GloVe each with a dimensionality of 50 in `wordVectors.npy`\n",
    "\n",
    "https://nlp.stanford.edu/projects/glove/\n"
   ]
  },
  {
   "cell_type": "code",
   "execution_count": 2,
   "metadata": {},
   "outputs": [
    {
     "name": "stdout",
     "output_type": "stream",
     "text": [
      "Loaded the word list! Total words: 400000\n",
      "Loaded the word vectors!\n",
      "(400000, 50)\n"
     ]
    }
   ],
   "source": [
    "import numpy as np\n",
    "wordsList = np.load('wordsList.npy')\n",
    "print('Loaded the word list! Total words: ' + str(len(wordsList)))\n",
    "wordsList = wordsList.tolist() #Originally loaded as numpy array\n",
    "wordsList = [word.decode('UTF-8') for word in wordsList] #Encode words as UTF-8\n",
    "wordVectors = np.load('wordVectors.npy')\n",
    "print ('Loaded the word vectors!')\n",
    "print(wordVectors.shape)"
   ]
  },
  {
   "cell_type": "markdown",
   "metadata": {},
   "source": [
    "Let's test that our word matrix is a thing by looking for a word"
   ]
  },
  {
   "cell_type": "code",
   "execution_count": 3,
   "metadata": {},
   "outputs": [
    {
     "data": {
      "text/plain": [
       "array([ 0.39263999, -0.0092266 , -0.13176   ,  0.96239001, -0.062905  ,\n",
       "       -1.09309995,  0.13189   , -0.024347  , -0.99756998,  0.63986999,\n",
       "        0.41080001,  0.16771001,  0.29813999,  0.56809998, -0.29468   ,\n",
       "       -0.016411  ,  0.038173  ,  0.81361002, -0.39416999,  0.84174001,\n",
       "        0.95032001, -0.81366003, -0.80491   ,  0.36105001,  0.22521   ,\n",
       "        0.033748  , -1.12300003, -0.28904   , -0.66307998, -0.72391999,\n",
       "       -0.57380003, -0.30045   , -0.034403  ,  0.53649002, -1.21940005,\n",
       "       -0.47835001,  0.081912  , -0.091379  ,  0.69239002,  0.99975002,\n",
       "        0.60606998, -0.90864998, -0.21683   ,  0.81268001, -0.12811001,\n",
       "        0.22163001, -0.48390999,  0.48424   ,  0.69533002, -0.75996   ], dtype=float32)"
      ]
     },
     "execution_count": 3,
     "metadata": {},
     "output_type": "execute_result"
    }
   ],
   "source": [
    "agoraIndex = wordsList.index('agora')\n",
    "wordVectors[agoraIndex]"
   ]
  },
  {
   "cell_type": "markdown",
   "metadata": {},
   "source": [
    "Looking sexy to me. \n",
    "Now let's test this system works and can generate a location in space with the given vectors"
   ]
  },
  {
   "cell_type": "code",
   "execution_count": 4,
   "metadata": {},
   "outputs": [
    {
     "name": "stdout",
     "output_type": "stream",
     "text": [
      "(10,)\n",
      "[   41   303     4   282     5   161    17 13767    69     0]\n"
     ]
    }
   ],
   "source": [
    "import tensorflow as tf\n",
    "maxSeqLength = 10 #Maximum length of sentence\n",
    "firstSentence = np.zeros((maxSeqLength), dtype='int32') #this is template for future codings\n",
    "firstSentence[0] = wordsList.index(\"i\")\n",
    "firstSentence[1] = wordsList.index(\"want\")\n",
    "firstSentence[2] = wordsList.index(\"to\")\n",
    "firstSentence[3] = wordsList.index(\"play\")\n",
    "firstSentence[4] = wordsList.index(\"and\")\n",
    "firstSentence[5] = wordsList.index(\"work\")\n",
    "firstSentence[6] = wordsList.index(\"with\")\n",
    "firstSentence[7] = wordsList.index(\"inspiring\")\n",
    "firstSentence[8] = wordsList.index(\"people\")\n",
    "#firstSentence[9] are going to be 0 ... since the tensorflow object was initalized with 10 zeros\n",
    "print(firstSentence.shape)\n",
    "print(firstSentence) #Shows the row index for each word"
   ]
  },
  {
   "cell_type": "code",
   "execution_count": 5,
   "metadata": {},
   "outputs": [
    {
     "name": "stdout",
     "output_type": "stream",
     "text": [
      "(10, 50)\n"
     ]
    }
   ],
   "source": [
    "with tf.Session() as sess:\n",
    "    print(tf.nn.embedding_lookup(wordVectors,firstSentence).eval().shape)"
   ]
  },
  {
   "cell_type": "markdown",
   "metadata": {},
   "source": [
    "## Let's look at our data and load it in\n",
    "\n",
    "The data we're working with is a .csv file with 40k tweets each labeled with one of 13 emotions:\n",
    "\n",
    "- anger\n",
    "- boredom\n",
    "- empty\n",
    "- enthusiasm\n",
    "- fun\n",
    "- happiness\n",
    "- hate\n",
    "- love\n",
    "- neutral\n",
    "- relief\n",
    "- sadness\n",
    "- surprise\n",
    "- worry\n",
    "\n",
    "Dataset is a .csv file with 40k entries of four columns:\n",
    "\n",
    "| tweet_id | sentiment | author | content |\n",
    "\n",
    "Let's determine the max size of our input vector so all the tweets will fit\n",
    "\n",
    "Let's look at a few samples of tweets! to start:\n"
   ]
  },
  {
   "cell_type": "code",
   "execution_count": 6,
   "metadata": {},
   "outputs": [
    {
     "name": "stdout",
     "output_type": "stream",
     "text": [
      "{'empty': 0, 'sadness': 1, 'enthusiasm': 2, 'neutral': 3, 'worry': 4, 'surprise': 5, 'love': 6, 'fun': 7, 'hate': 8, 'happiness': 9, 'boredom': 10, 'relief': 11, 'anger': 12}\n",
      "{'empty': 826, 'sadness': 5164, 'enthusiasm': 758, 'neutral': 8637, 'worry': 8458, 'surprise': 2186, 'love': 3841, 'fun': 1775, 'hate': 1322, 'happiness': 5208, 'boredom': 178, 'relief': 1525, 'anger': 109}\n",
      "The total number of tweets is 40000\n",
      "The total number of words is 528675\n",
      "The average length of a tweet is 13.216875\n",
      "The max length of a tweet is: 34\n"
     ]
    },
    {
     "data": {
      "image/png": "[encoded data removed]",
      "text/plain": [
       "<Figure size 432x288 with 1 Axes>"
      ]
     },
     "metadata": {},
     "output_type": "display_data"
    },
    {
     "data": {
      "image/png": "[encoded data removed]",
      "text/plain": [
       "<Figure size 432x288 with 1 Axes>"
      ]
     },
     "metadata": {},
     "output_type": "display_data"
    }
   ],
   "source": [
    "import csv\n",
    "import copy\n",
    "\n",
    "filename = \"text_emotion.csv\"\n",
    "csv_column_names = ['tweet_id','sentiment','author','content']\n",
    "\n",
    "sentimentCounter = {}\n",
    "biggestTweetSize = 0\n",
    "\n",
    "\n",
    "with open(filename) as inf:\n",
    "    tweetreader = csv.reader(inf, delimiter=',',quotechar='\"')\n",
    "    next(inf) # skip header\n",
    "    \n",
    "### IMPROVMENT: use pandas so I can address the columns by label\n",
    "    counter = 0\n",
    "    numWords = []\n",
    "\n",
    "    for line in tweetreader:\n",
    "        # Read data, using python, into our features\n",
    "        number, emotion, user, tweet = line\n",
    "        \n",
    "        if emotion in sentimentCounter:\n",
    "            #print(sentimentCounter[emotion])\n",
    "            sentimentCounter[emotion] = sentimentCounter[emotion] + 1\n",
    "            #print(str(emotion) + \"+1 = \" + str(sentimentCounter[emotion]))\n",
    "        else:\n",
    "            sentimentCounter[emotion] = 0\n",
    "        \n",
    "        count = len(tweet.split())\n",
    "        numWords.append(count)\n",
    "        \n",
    "        # for k, v in sentimentCounter.items():\n",
    "        #    if k == emotion:\n",
    "        #       sentimentCounter[k] = v + 1\n",
    "        \n",
    "        counter = counter + 1\n",
    "        #if counter % 1000: print(sentimentCounter)\n",
    "\n",
    "# Let's create a new dictionary to use later without the count\n",
    "# Great reference on shallow or deep copy: https://stackoverflow.com/questions/3975376/understanding-dict-copy-shallow-or-deep\n",
    "\n",
    "sentimentDictionary = copy.deepcopy(sentimentCounter)\n",
    "for idx, val in enumerate(sentimentDictionary):\n",
    "    sentimentDictionary[val] = idx\n",
    "print(sentimentDictionary)\n",
    "        \n",
    "numTweets = len(numWords)\n",
    "sumTweets = sum(numWords)\n",
    "print(sentimentCounter)\n",
    "print('The total number of tweets is', numTweets)\n",
    "print('The total number of words is', sumTweets)\n",
    "print('The average length of a tweet is', sumTweets/numTweets)\n",
    "print('The max length of a tweet is:', max(numWords))\n",
    "\n",
    "import matplotlib.pyplot as plt\n",
    "%matplotlib inline\n",
    "plt.hist(numWords, 100)\n",
    "plt.title('Distribution of Tweet Word Count in Dataset')\n",
    "plt.xlabel('Tweet Length')\n",
    "plt.ylabel('Frequency')\n",
    "plt.axis([0, 40, 0, 2500])\n",
    "plt.show()\n",
    "\n",
    "plt.bar(range(len(sentimentCounter)), list(sentimentCounter.values()), align='center')\n",
    "plt.title('Distribution of Sentiment Labels in Dataset')\n",
    "plt.xlabel('Sentiment Labels in Twitter Dataset')\n",
    "plt.ylabel('Frequency')\n",
    "plt.xticks(range(len(sentimentCounter)), list(sentimentCounter.keys()), rotation='vertical')\n",
    "plt.show()\n",
    "\n",
    "#print('The total number of words in the files is', sum(int(numTweets)))\n",
    "#print('The average number of words in the files is', sum(numTweets)/len(numTweets))\n"
   ]
  },
  {
   "cell_type": "markdown",
   "metadata": {},
   "source": [
    "### Some conclusions from primary data analysis:\n",
    "- Sentiment labelling highly skwed.  Many examples for worry, neutral, happiness, and sadness.  Few examples for anger, boredom, empty.  Perhaps this reflective of the entire twitter universe too. Will likely affect the training accuracy for the rare sentiments like anger.\n",
    "- Distribution of tweet length suggests a vector of 50 should cover all our cases.   \n",
    "- QUESTION: For this test, we're only working in our data universe so we can reduce mapping by 30% if we drop it to 35.  Since the tweet size has recently been doubled perhaps the average word length would double with the average around 26 and the max around 70?"
   ]
  },
  {
   "cell_type": "code",
   "execution_count": 7,
   "metadata": {},
   "outputs": [],
   "source": [
    "maxTweetLength = 35"
   ]
  },
  {
   "cell_type": "markdown",
   "metadata": {},
   "source": [
    "Now let's clean up and load our data.  We'll create a few functions and loop through the csv to create our starting vectors using numpy\n",
    "\n",
    "#### Tweet Vector\n",
    "- remove special characters and make all the words lowercase since that is how the word vectors are made\n",
    "- create a vector with all the words in the word list. we'll use that word list to generate the word vector\n",
    "\n",
    "#### Sentiment Vector\n",
    "- create a dictionary with numerical mappings for the emotions\n",
    "- map the string to an int\n",
    "\n",
    "\n",
    "#### General\n",
    "- Save the vector so you don't need to complete run this again!\n"
   ]
  },
  {
   "cell_type": "code",
   "execution_count": 23,
   "metadata": {},
   "outputs": [
    {
     "name": "stdout",
     "output_type": "stream",
     "text": [
      "happiness: 9\n",
      "{'empty': 0, 'sadness': 1, 'enthusiasm': 2, 'neutral': 3, 'worry': 4, 'surprise': 5, 'love': 6, 'fun': 7, 'hate': 8, 'happiness': 9, 'boredom': 10, 'relief': 11, 'anger': 12}\n",
      "(40000, 35) (40000, 13)\n"
     ]
    }
   ],
   "source": [
    "from tempfile import TemporaryFile\n",
    "tweetPickle = TemporaryFile()\n",
    "sentimentPickel = TemporaryFile()\n",
    "\n",
    "import re\n",
    "strip_special_chars = re.compile(\"[^A-Za-z0-9 ]+\")\n",
    "\n",
    "def cleanSentences(string):\n",
    "    string = string.lower().replace(\"<br />\", \" \")\n",
    "    return re.sub(strip_special_chars, \"\", string.lower())\n",
    "    \n",
    "a = sentimentDictionary['happiness']\n",
    "print('happiness: ' + str(a))\n",
    "\n",
    "print(sentimentDictionary)\n",
    "sentimentSize = len(sentimentDictionary)\n",
    "\n",
    "tweets = np.zeros((numTweets, maxTweetLength), dtype='int32')\n",
    "sentiments = np.zeros((numTweets, len(sentimentDictionary)), dtype='int32')\n",
    "\n",
    "\n",
    "print(np.shape(tweets), np.shape(sentiments))\n",
    "\n"
   ]
  },
  {
   "cell_type": "code",
   "execution_count": 14,
   "metadata": {},
   "outputs": [
    {
     "ename": "SyntaxError",
     "evalue": "invalid syntax (<ipython-input-14-88403026fbea>, line 2)",
     "output_type": "error",
     "traceback": [
      "\u001b[0;36m  File \u001b[0;32m\"<ipython-input-14-88403026fbea>\"\u001b[0;36m, line \u001b[0;32m2\u001b[0m\n\u001b[0;31m    Instead of running that code above you can just run the next section to import the pickles\u001b[0m\n\u001b[0m             ^\u001b[0m\n\u001b[0;31mSyntaxError\u001b[0m\u001b[0;31m:\u001b[0m invalid syntax\n"
     ]
    }
   ],
   "source": [
    "##### HEADS UP #####\n",
    "Instead of running that code above you can just run the next section to import the pickles"
   ]
  },
  {
   "cell_type": "code",
   "execution_count": 13,
   "metadata": {},
   "outputs": [
    {
     "name": "stdout",
     "output_type": "stream",
     "text": [
      "Tweet:0: empty\t0\n",
      "[1 0 0 0 0 0 0 0 0 0 0 0 0]\n",
      "Tweet:1000: worry\t4\n",
      "[0 0 0 0 1 0 0 0 0 0 0 0 0]\n",
      "Tweet:2000: sadness\t1\n",
      "[0 1 0 0 0 0 0 0 0 0 0 0 0]\n",
      "Tweet:3000: worry\t4\n",
      "[0 0 0 0 1 0 0 0 0 0 0 0 0]\n",
      "Tweet:4000: neutral\t3\n",
      "[0 0 0 1 0 0 0 0 0 0 0 0 0]\n",
      "Tweet:5000: sadness\t1\n",
      "[0 1 0 0 0 0 0 0 0 0 0 0 0]\n",
      "Tweet:6000: neutral\t3\n",
      "[0 0 0 1 0 0 0 0 0 0 0 0 0]\n",
      "Tweet:7000: neutral\t3\n",
      "[0 0 0 1 0 0 0 0 0 0 0 0 0]\n",
      "Tweet:8000: sadness\t1\n",
      "[0 1 0 0 0 0 0 0 0 0 0 0 0]\n",
      "Tweet:9000: worry\t4\n",
      "[0 0 0 0 1 0 0 0 0 0 0 0 0]\n",
      "Tweet:10000: love\t6\n",
      "[0 0 0 0 0 0 1 0 0 0 0 0 0]\n",
      "Tweet:11000: worry\t4\n",
      "[0 0 0 0 1 0 0 0 0 0 0 0 0]\n",
      "Tweet:12000: happiness\t9\n",
      "[0 0 0 0 0 0 0 0 0 1 0 0 0]\n",
      "Tweet:13000: worry\t4\n",
      "[0 0 0 0 1 0 0 0 0 0 0 0 0]\n",
      "Tweet:14000: neutral\t3\n",
      "[0 0 0 1 0 0 0 0 0 0 0 0 0]\n",
      "Tweet:15000: surprise\t5\n",
      "[0 0 0 0 0 1 0 0 0 0 0 0 0]\n",
      "Tweet:16000: hate\t8\n",
      "[0 0 0 0 0 0 0 0 1 0 0 0 0]\n",
      "Tweet:17000: worry\t4\n",
      "[0 0 0 0 1 0 0 0 0 0 0 0 0]\n",
      "Tweet:18000: worry\t4\n",
      "[0 0 0 0 1 0 0 0 0 0 0 0 0]\n",
      "Tweet:19000: sadness\t1\n",
      "[0 1 0 0 0 0 0 0 0 0 0 0 0]\n",
      "Tweet:20000: empty\t0\n",
      "[1 0 0 0 0 0 0 0 0 0 0 0 0]\n",
      "Tweet:21000: neutral\t3\n",
      "[0 0 0 1 0 0 0 0 0 0 0 0 0]\n",
      "Tweet:22000: empty\t0\n",
      "[1 0 0 0 0 0 0 0 0 0 0 0 0]\n",
      "Tweet:23000: relief\t11\n",
      "[0 0 0 0 0 0 0 0 0 0 0 1 0]\n",
      "Tweet:24000: hate\t8\n",
      "[0 0 0 0 0 0 0 0 1 0 0 0 0]\n",
      "Tweet:25000: fun\t7\n",
      "[0 0 0 0 0 0 0 1 0 0 0 0 0]\n",
      "Tweet:26000: surprise\t5\n",
      "[0 0 0 0 0 1 0 0 0 0 0 0 0]\n",
      "Tweet:27000: empty\t0\n",
      "[1 0 0 0 0 0 0 0 0 0 0 0 0]\n",
      "Tweet:28000: worry\t4\n",
      "[0 0 0 0 1 0 0 0 0 0 0 0 0]\n",
      "Tweet:29000: neutral\t3\n",
      "[0 0 0 1 0 0 0 0 0 0 0 0 0]\n",
      "Tweet:30000: neutral\t3\n",
      "[0 0 0 1 0 0 0 0 0 0 0 0 0]\n",
      "Tweet:31000: love\t6\n",
      "[0 0 0 0 0 0 1 0 0 0 0 0 0]\n",
      "Tweet:32000: neutral\t3\n",
      "[0 0 0 1 0 0 0 0 0 0 0 0 0]\n",
      "Tweet:33000: empty\t0\n",
      "[1 0 0 0 0 0 0 0 0 0 0 0 0]\n",
      "Tweet:34000: happiness\t9\n",
      "[0 0 0 0 0 0 0 0 0 1 0 0 0]\n",
      "Tweet:35000: neutral\t3\n",
      "[0 0 0 1 0 0 0 0 0 0 0 0 0]\n",
      "Tweet:36000: happiness\t9\n",
      "[0 0 0 0 0 0 0 0 0 1 0 0 0]\n",
      "Tweet:37000: love\t6\n",
      "[0 0 0 0 0 0 1 0 0 0 0 0 0]\n",
      "Tweet:38000: happiness\t9\n",
      "[0 0 0 0 0 0 0 0 0 1 0 0 0]\n",
      "Tweet:39000: hate\t8\n",
      "[0 0 0 0 0 0 0 0 1 0 0 0 0]\n",
      "[[1 0 0 0 0 0 0 0 0 0 0 0 0]\n",
      " [0 1 0 0 0 0 0 0 0 0 0 0 0]\n",
      " [0 1 0 0 0 0 0 0 0 0 0 0 0]\n",
      " [0 0 1 0 0 0 0 0 0 0 0 0 0]\n",
      " [0 0 0 1 0 0 0 0 0 0 0 0 0]\n",
      " [0 0 0 0 1 0 0 0 0 0 0 0 0]\n",
      " [0 1 0 0 0 0 0 0 0 0 0 0 0]\n",
      " [0 0 0 0 1 0 0 0 0 0 0 0 0]\n",
      " [0 1 0 0 0 0 0 0 0 0 0 0 0]\n",
      " [0 1 0 0 0 0 0 0 0 0 0 0 0]]\n"
     ]
    }
   ],
   "source": [
    "with open(filename) as inf:\n",
    "    tweetreader = csv.reader(inf, delimiter=',',quotechar='\"')\n",
    "    tweetCounter = 0\n",
    "    \n",
    "    testing = 40001\n",
    "    printCheckpoint = 1000\n",
    "    \n",
    "    next(inf) # skip header\n",
    "#    print(sentimentDictionary)\n",
    "    \n",
    "### IMPROVMENT: use pandas so I can address the columns by label\n",
    "    \n",
    "    for line in tweetreader:\n",
    "        number, emotion, user, tweet = line\n",
    "        cleanTweet = cleanSentences(tweet)\n",
    "        splitTweet = cleanTweet.split()\n",
    "        wordCounter = 0\n",
    "        \n",
    "        for word in splitTweet:\n",
    "            try:\n",
    "                tweets[tweetCounter][wordCounter] = wordsList.index(word)\n",
    "            except ValueError:\n",
    "                tweets[tweetCounter][wordCounter] = 399999 #Vector for unkown words\n",
    "            wordCounter = wordCounter + 1\n",
    "            if wordCounter >= maxTweetLength: break ## maxTweetLength = 50\n",
    "        \n",
    "        sentimentMap = sentimentDictionary[emotion]\n",
    "        sentiments[tweetCounter][sentimentMap] = 1\n",
    "        #print(sentiments[tweetCounter])\n",
    "                    \n",
    "        if tweetCounter%printCheckpoint == 0: \n",
    "        #    print(\"\\t\" + str(sentimentMap) + \"\\t\" + str(emotion))\n",
    "            print('Tweet:' + str(tweetCounter) + ': ' + str(emotion) + '\\t' + str(sentimentMap))\n",
    "            print(sentiments[tweetCounter])\n",
    "            #     print(cleanTweet)\n",
    "        if tweetCounter > testing: break\n",
    "            \n",
    "        tweetCounter = tweetCounter + 1\n",
    "\n",
    "\n",
    "#print(tweets)\n",
    "print(sentiments[:10])\n",
    "            \n",
    "np.save('tweetVector', tweets, allow_pickle=True)\n",
    "np.save('sentimentVector', sentiments, allow_pickle=True)"
   ]
  },
  {
   "cell_type": "code",
   "execution_count": 15,
   "metadata": {},
   "outputs": [],
   "source": [
    "tweets = np.load('tweetVector.npy', mmap_mode='r')\n",
    "sentiments = np.load('sentimentVector.npy', mmap_mode='r')"
   ]
  },
  {
   "cell_type": "markdown",
   "metadata": {},
   "source": [
    "### Splitting the data into a training and test set\n",
    "We want to use a portion of our data for training the network and a remaining portion for the testing and validation.  The following code will create those two datasets\n",
    "\n",
    "OPPORTUNITY FOR IMPROVEMENT:\n",
    "- look at the existing numpy/tensorflow codebase to see what formulas can be used to speed up this process\n",
    "- try list comprehension wrapped around a generator expression\n",
    "- confirm all the sentiments are represented in the testing dataset / or in similar distribution\n",
    "- learn more about reading files https://learningtensorflow.com/ReadingFilesBasic/\n"
   ]
  },
  {
   "cell_type": "code",
   "execution_count": 19,
   "metadata": {},
   "outputs": [
    {
     "name": "stdout",
     "output_type": "stream",
     "text": [
      "Input data size: 10\n",
      "Output Training Data size: 8\n",
      "Output Testing Data size: 2\n",
      "[1, 2, 3, 4, 5, 6, 7, 8]\n",
      "[9, 10]\n"
     ]
    }
   ],
   "source": [
    "batchSize = 24\n",
    "\n",
    "def splitData(data, testRatio=0.1 ):\n",
    "    trainingData = []\n",
    "    testingData = []\n",
    "    \n",
    "    numElements = len(data)\n",
    "    testingSize = int(numElements * testRatio)\n",
    "    trainingSize = numElements - testingSize\n",
    "    #print(testingSize, trainingSize)\n",
    "\n",
    "    for i, item in enumerate(data):\n",
    "        #print(i, item)\n",
    "        if i < trainingSize:\n",
    "            trainingData.append(item)\n",
    "        else: \n",
    "            testingData.append(item)\n",
    "    \n",
    "    print(\"Input data size: \" + str(numElements))\n",
    "    print(\"Output Training Data size: \" + str(len(trainingData)))\n",
    "    print(\"Output Testing Data size: \" + str(len(testingData)))\n",
    "    \n",
    "    return trainingData, testingData\n",
    "\n",
    "experiment = [1,2,3,4,5,6,7,8,9,10]\n",
    "\n",
    "result1, result2 = splitData(experiment, 0.2)\n",
    "print(result1)\n",
    "print(result2)"
   ]
  },
  {
   "cell_type": "code",
   "execution_count": 22,
   "metadata": {},
   "outputs": [
    {
     "name": "stdout",
     "output_type": "stream",
     "text": [
      "Input data size: 40000\n",
      "Output Training Data size: 36000\n",
      "Output Testing Data size: 4000\n",
      "Input data size: 40000\n",
      "Output Training Data size: 36000\n",
      "Output Testing Data size: 4000\n"
     ]
    }
   ],
   "source": [
    "testRatio = .1       #10% of the training data will be used for validation\n",
    "\n",
    "tweetTraining, tweetTesting = splitData(tweets, testRatio)\n",
    "sentimentTraining, sentimentTesting = splitData(sentiments, testRatio)\n",
    "\n",
    "\n",
    "\n",
    "tweetTrainingSize = len(tweetTraining)\n",
    "tweetTestingSize = len(tweetTesting)\n",
    "sentimentTrainingSize = len(sentimentTraining)\n",
    "sentimentTestingSize = len(sentimentTesting)\n",
    "\n",
    "#print(sentimentTestingSize)"
   ]
  },
  {
   "cell_type": "markdown",
   "metadata": {},
   "source": [
    "#### Helper Functions\n",
    "We will be making data batches to optimize our network with\n",
    "\n",
    "I made something that works.  This is a blog with information http://ischlag.github.io/2016/06/19/tensorflow-input-pipeline-example/ for future data pipeline references"
   ]
  },
  {
   "cell_type": "code",
   "execution_count": 25,
   "metadata": {},
   "outputs": [
    {
     "name": "stdout",
     "output_type": "stream",
     "text": [
      "[3, 9, 2, 8, 7, 9, 6, 3, 7, 2, 5, 4, 6, 3, 5, 8, 2, 9, 7, 3, 5, 5, 6, 10]\n",
      "[13, 19, 12, 18, 17, 19, 16, 13, 17, 12, 15, 14, 16, 13, 15, 18, 12, 19, 17, 13, 15, 15, 16, 20]\n"
     ]
    }
   ],
   "source": [
    "from random import randint\n",
    "\n",
    "def getDataBatch(data,label):\n",
    "    arr = np.zeros([batchSize, maxSeqLength])\n",
    "    lab = np.zeros([batchSize, sentimentSize])\n",
    "    \n",
    "    batchData = []\n",
    "    batchLabels = []\n",
    "    \n",
    "    dataSize = len(data)\n",
    "        \n",
    "    if len(data) != len(label):\n",
    "        print(\"Data size does not match. Check the size of the data\")\n",
    "        \n",
    "    for i in range(batchSize):\n",
    "        num = randint(1,dataSize-1)\n",
    "        batchData.append(data[num])\n",
    "        batchLabels.append(label[num])\n",
    "    return batchData, batchLabels\n",
    "\n",
    "testData = [1,2,3,4,5,6,7,8,9,10]\n",
    "testLabel = [11,12,13,14,15,16,17,18,19,20]\n",
    "\n",
    "oneResult, twoResult = getDataBatch(testData, testLabel)\n",
    "print(oneResult)\n",
    "print(twoResult)"
   ]
  },
  {
   "cell_type": "markdown",
   "metadata": {},
   "source": [
    "### Now let's start doing the TensorFlow part!\n",
    "\n",
    "We need to define a few variables to get this started\n",
    "- **batchSize**: the number of samples to be shown to the network before a weight update can be performed. We'll start with a batchSize of 24 to allow for faster learning, then copy the weights to our predictor network and change the batchSize to 1 to allow individual tweet sentiment predictions\n",
    "- **lstmUnits**: the number of hidden LSTM neurons. 64 choosen from the tutorial ... I can fine tune this\n",
    "- **numClasses**: equal to the number of sentiments\n",
    "- **iterations**: how many times the system will loop to reduce error and train\n",
    "- **numDimensions**: the number of dimensions for each word vector"
   ]
  },
  {
   "cell_type": "code",
   "execution_count": 26,
   "metadata": {},
   "outputs": [],
   "source": [
    "batchSize = 24\n",
    "lstmUnits = 64\n",
    "numClasses = sentimentSize #13\n",
    "iterations = 100000\n",
    "numDimensions = 50  "
   ]
  },
  {
   "cell_type": "code",
   "execution_count": 27,
   "metadata": {},
   "outputs": [
    {
     "name": "stdout",
     "output_type": "stream",
     "text": [
      "numClasses:13\n",
      "batchSize:24\n",
      "maxTweetLength:35\n"
     ]
    }
   ],
   "source": [
    "import tensorflow as tf\n",
    "tf.reset_default_graph()\n",
    "\n",
    "print(\"numClasses:\" + str(numClasses))\n",
    "print(\"batchSize:\" + str(batchSize))\n",
    "print(\"maxTweetLength:\" + str(maxTweetLength))\n",
    "\n",
    "labels = tf.placeholder(tf.float32, [batchSize, numClasses])\n",
    "input_data = tf.placeholder(tf.int32, [batchSize, maxTweetLength])\n",
    "\n",
    "# A TensorFlow placeholder is the object that data is fed into during training"
   ]
  },
  {
   "cell_type": "code",
   "execution_count": 28,
   "metadata": {},
   "outputs": [],
   "source": [
    "data = tf.Variable(tf.zeros([batchSize, maxTweetLength, numDimensions]),dtype=tf.float32)\n",
    "data = tf.nn.embedding_lookup(wordVectors,input_data)"
   ]
  },
  {
   "cell_type": "code",
   "execution_count": 29,
   "metadata": {},
   "outputs": [],
   "source": [
    "lstmCell = tf.contrib.rnn.BasicLSTMCell(lstmUnits)\n",
    "lstmCell = tf.contrib.rnn.DropoutWrapper(cell=lstmCell, output_keep_prob=0.75)\n",
    "value, _ = tf.nn.dynamic_rnn(lstmCell, data, dtype=tf.float32)\n",
    "\n",
    "weight = tf.Variable(tf.truncated_normal([lstmUnits, numClasses]))\n",
    "bias = tf.Variable(tf.constant(0.1, shape=[numClasses]))\n",
    "value = tf.transpose(value, [1, 0, 2])  #transposes the tf object over the diagonal - swap vectical (0) and horizontal (1)\n",
    "last = tf.gather(value, int(value.get_shape()[0]) - 1)\n",
    "prediction = (tf.matmul(last, weight) + bias)\n",
    "\n",
    "correctPred = tf.equal(tf.argmax(prediction,1), tf.argmax(labels,1))\n",
    "accuracy = tf.reduce_mean(tf.cast(correctPred, tf.float32))\n",
    "\n",
    "loss = tf.reduce_mean(tf.nn.softmax_cross_entropy_with_logits(logits=prediction, labels=labels))\n",
    "optimizer = tf.train.AdamOptimizer().minimize(loss)"
   ]
  },
  {
   "cell_type": "markdown",
   "metadata": {},
   "source": [
    "## Tensorboard for Visulalizing\n",
    "Tensorboard is a visualization package for Tensorflow. It makes pretty interactive output. \n",
    "\n",
    "To view go to your termiinal and enter `tensorboard --logdir=tensorboard`, and then visit http://localhost:6006/ with a browser to keep an eye on your training progress.\n",
    "\n",
    "\n",
    "### FIX ERROR:\n",
    "- Error! /Users/.../ml/models/pretrained_lstm.ckpt-10000.data-00000-of-00001 is not UTF-8\n",
    "- Saving Distabled\n",
    "- See Console for more details\n"
   ]
  },
  {
   "cell_type": "code",
   "execution_count": 24,
   "metadata": {},
   "outputs": [
    {
     "ename": "SyntaxError",
     "evalue": "invalid syntax (<ipython-input-24-d493460cff53>, line 4)",
     "output_type": "error",
     "traceback": [
      "\u001b[0;36m  File \u001b[0;32m\"<ipython-input-24-d493460cff53>\"\u001b[0;36m, line \u001b[0;32m4\u001b[0m\n\u001b[0;31m    saver = tf.train.Saver(...variables...)\u001b[0m\n\u001b[0m                                      ^\u001b[0m\n\u001b[0;31mSyntaxError\u001b[0m\u001b[0;31m:\u001b[0m invalid syntax\n"
     ]
    }
   ],
   "source": [
    "import datetime\n",
    "\n",
    "sess = tf.InteractiveSession() # as opposed to while sess open\n",
    "saver = tf.train.Saver()\n",
    "sess.run(tf.global_variables_initializer())\n",
    "\n",
    "tf.summary.scalar('Loss', loss)\n",
    "tf.summary.scalar('Accuracy', accuracy)\n",
    "merged = tf.summary.merge_all()\n",
    "logdir = \"tensorboard/\" + datetime.datetime.now().strftime(\"%Y%m%d-%H%M%S\") + \"/\"\n",
    "writer = tf.summary.FileWriter(logdir, sess.graph)\n",
    "\n",
    "for i in range(iterations):\n",
    "    #Next Batch of reviews\n",
    "    nextBatch, nextBatchLabels = getDataBatch(tweetTraining,sentimentTraining)\n",
    "    sess.run(optimizer, {input_data: nextBatch, labels: nextBatchLabels})\n",
    "   \n",
    "    #Write summary to Tensorboard\n",
    "    if (i % 50 == 0):\n",
    "        summary = sess.run(merged, {input_data: nextBatch, labels: nextBatchLabels})\n",
    "        writer.add_summary(summary, i)\n",
    "\n",
    "    #Save the network every 10,000 training iterations\n",
    "    if (i % 10000 == 0 and i != 0):\n",
    "        save_path = saver.save(sess, \"models/pretrained_lstm.ckpt\", global_step=i)\n",
    "        print(\"saved to %s\" % save_path)\n",
    "writer.close()"
   ]
  },
  {
   "cell_type": "markdown",
   "metadata": {},
   "source": [
    "# Incomplete:\n",
    "- This is how far I got in the project at this point the following is a list of tasks remaining.\n",
    "- I got stuck on saving the network\n",
    "\n",
    "## Testing the network\n",
    "\n",
    "Now that the network is trained, we can test it with the remaining 10% of data that we did not use to train. \n",
    "\n",
    "- Load trained network\n",
    "- Pass data and evaluate\n",
    "\n",
    "### Some graphs to make:\n",
    "- Plot energy function\n",
    "- compare learning rates on accuracy\n",
    "- collection of examples (good, okay, bad)"
   ]
  },
  {
   "cell_type": "code",
   "execution_count": 30,
   "metadata": {},
   "outputs": [],
   "source": [
    "import tensorflow as tf\n",
    "tf.reset_default_graph()\n",
    "\n",
    "labels = tf.placeholder(tf.float32, [batchSize, numClasses])\n",
    "input_data = tf.placeholder(tf.int32, [batchSize, maxTweetLength])\n",
    "\n",
    "data = tf.Variable(tf.zeros([batchSize, maxSeqLength, numDimensions]),dtype=tf.float32)\n",
    "data = tf.nn.embedding_lookup(wordVectors,input_data)\n",
    "\n",
    "lstmCell = tf.contrib.rnn.BasicLSTMCell(lstmUnits)\n",
    "lstmCell = tf.contrib.rnn.DropoutWrapper(cell=lstmCell, output_keep_prob=0.25)\n",
    "value, _ = tf.nn.dynamic_rnn(lstmCell, data, dtype=tf.float32)\n",
    "\n",
    "weight = tf.Variable(tf.truncated_normal([lstmUnits, numClasses]))\n",
    "bias = tf.Variable(tf.constant(0.1, shape=[numClasses]))\n",
    "value = tf.transpose(value, [1, 0, 2])\n",
    "last = tf.gather(value, int(value.get_shape()[0]) - 1)\n",
    "prediction = (tf.matmul(last, weight) + bias)\n",
    "\n",
    "correctPred = tf.equal(tf.argmax(prediction,1), tf.argmax(labels,1))\n",
    "accuracy = tf.reduce_mean(tf.cast(correctPred, tf.float32))\n"
   ]
  },
  {
   "cell_type": "code",
   "execution_count": null,
   "metadata": {},
   "outputs": [],
   "source": [
    "sess = tf.InteractiveSession()\n",
    "saver = tf.train.Saver()\n",
    "saver.restore(sess, tf.train.latest_checkpoint('models'))"
   ]
  },
  {
   "cell_type": "markdown",
   "metadata": {},
   "source": [
    "## Data Analysis\n",
    "- Plot energy function\n",
    "- compare learning rates on accuracy\n",
    "- collection of examples (good, okay, bad)"
   ]
  },
  {
   "cell_type": "code",
   "execution_count": null,
   "metadata": {},
   "outputs": [],
   "source": []
  }
 ],
 "metadata": {
  "kernelspec": {
   "display_name": "Python 3",
   "language": "python",
   "name": "python3"
  },
  "language_info": {
   "codemirror_mode": {
    "name": "ipython",
    "version": 3
   },
   "file_extension": ".py",
   "mimetype": "text/x-python",
   "name": "python",
   "nbconvert_exporter": "python",
   "pygments_lexer": "ipython3",
   "version": "3.6.0"
  }
 },
 "nbformat": 4,
 "nbformat_minor": 2
}
